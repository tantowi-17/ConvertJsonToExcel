{
 "cells": [
  {
   "cell_type": "code",
   "execution_count": null,
   "metadata": {},
   "outputs": [],
   "source": [
    "import json\n",
    "import openpyxl\n",
    "import pandas as pd\n",
    "\n",
    "# Membaca data JSON dari string\n",
    "data = pd.read_json('restaurant_openning.json')\n",
    "\n",
    "# Membuat file Excel baru\n",
    "workbook = openpyxl.Workbook()\n",
    "sheet = workbook.active\n",
    "\n",
    "# Menambahkan data ke dalam file Excel\n",
    "sheet[\"A1\"] = \"ID\"\n",
    "sheet[\"B1\"] = \"Day\"\n",
    "sheet[\"C1\"] = \"Open\"\n",
    "sheet[\"D1\"] = \"Close\"\n",
    "\n",
    "rowIndex = 2\n",
    "...\n",
    "for id, days in data.items():\n",
    "    for day, times in days[0].items():\n",
    "      for time in times:\n",
    "        sheet[f\"A{rowIndex}\"] = id\n",
    "        sheet[f\"B{rowIndex}\"] = day\n",
    "        if \"opens\" in time:\n",
    "          sheet[f\"C{rowIndex}\"] = time[\"opens\"]\n",
    "        if \"closes\" in time:\n",
    "          sheet[f\"D{rowIndex}\"] = time[\"closes\"]\n",
    "        rowIndex += 1\n",
    "\n",
    "# Menyimpan file Excel\n",
    "workbook.save(\"restaurant_opennings.xlsx\")\n",
    "\n",
    "\n"
   ]
  }
 ],
 "metadata": {
  "kernelspec": {
   "display_name": "Python 3",
   "language": "python",
   "name": "python3"
  },
  "language_info": {
   "codemirror_mode": {
    "name": "ipython",
    "version": 3
   },
   "file_extension": ".py",
   "mimetype": "text/x-python",
   "name": "python",
   "nbconvert_exporter": "python",
   "pygments_lexer": "ipython3",
   "version": "3.9.0"
  },
  "orig_nbformat": 4,
  "vscode": {
   "interpreter": {
    "hash": "aee8b7b246df8f9039afb4144a1f6fd8d2ca17a180786b69acc140d282b71a49"
   }
  }
 },
 "nbformat": 4,
 "nbformat_minor": 2
}
